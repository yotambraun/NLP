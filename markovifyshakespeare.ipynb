{
  "nbformat": 4,
  "nbformat_minor": 0,
  "metadata": {
    "colab": {
      "name": "markovifyshakespeare.ipynb",
      "provenance": [],
      "collapsed_sections": []
    },
    "kernelspec": {
      "name": "python3",
      "display_name": "Python 3"
    }
  },
  "cells": [
    {
      "cell_type": "code",
      "metadata": {
        "colab": {
          "base_uri": "https://localhost:8080/"
        },
        "id": "3qYxI5jcrza9",
        "outputId": "91dc808d-3f7d-4fe3-e4c7-31b13f1dd7d6"
      },
      "source": [
        "pip install markovify\r\n"
      ],
      "execution_count": null,
      "outputs": [
        {
          "output_type": "stream",
          "text": [
            "Collecting markovify\n",
            "  Downloading https://files.pythonhosted.org/packages/56/18/fdc3e6e0a55e10a4457846987e6b48587c0dbf616baae582501da7396b82/markovify-0.9.0.tar.gz\n",
            "Collecting unidecode\n",
            "\u001b[?25l  Downloading https://files.pythonhosted.org/packages/9e/25/723487ca2a52ebcee88a34d7d1f5a4b80b793f179ee0f62d5371938dfa01/Unidecode-1.2.0-py2.py3-none-any.whl (241kB)\n",
            "\u001b[K     |████████████████████████████████| 245kB 10.5MB/s \n",
            "\u001b[?25hBuilding wheels for collected packages: markovify\n",
            "  Building wheel for markovify (setup.py) ... \u001b[?25l\u001b[?25hdone\n",
            "  Created wheel for markovify: filename=markovify-0.9.0-cp37-none-any.whl size=18476 sha256=ccaa62f8e98702faa6b72b953e86ec27f56711711b23b4c8ba56340887810838\n",
            "  Stored in directory: /root/.cache/pip/wheels/03/59/5b/04c5f27d57977580c1122fa69a69c327dede5a30f9dac54c55\n",
            "Successfully built markovify\n",
            "Installing collected packages: unidecode, markovify\n",
            "Successfully installed markovify-0.9.0 unidecode-1.2.0\n"
          ],
          "name": "stdout"
        }
      ]
    },
    {
      "cell_type": "code",
      "metadata": {
        "id": "RqNzyzSBsFyd"
      },
      "source": [
        "import markovify\r\n",
        "with open(\"/content/t8.shakespeare.txt\") as f:\r\n",
        "    text = f.read()\r\n",
        "\r\n",
        "# Build the model.\r\n",
        "text_model = markovify.Text(text)"
      ],
      "execution_count": null,
      "outputs": []
    },
    {
      "cell_type": "code",
      "metadata": {
        "colab": {
          "base_uri": "https://localhost:8080/"
        },
        "id": "YGeMiv_Ws72e",
        "outputId": "54e6db2e-4faa-41da-dca6-d8bb9def280e"
      },
      "source": [
        "print()\r\n",
        "for i in range(5):\r\n",
        "  print(text_model.make_sentence())\r\n",
        "  print()"
      ],
      "execution_count": null,
      "outputs": [
        {
          "output_type": "stream",
          "text": [
            "\n",
            "Go, bid the apothecary Bring the strong course of love, at last- if promise last- I got in his own seam And never more admir'd Than by the colour of lovers; but to parfect one man but he do know.\n",
            "\n",
            "Therefore, friends, As it is not within his grace, where it began at first.\n",
            "\n",
            "I go to bed then.\n",
            "\n",
            "My lord, you need nor fear Your favors nor your name is?\n",
            "\n",
            "Lend thy hand, And let us go.\n",
            "\n"
          ],
          "name": "stdout"
        }
      ]
    },
    {
      "cell_type": "code",
      "metadata": {
        "colab": {
          "base_uri": "https://localhost:8080/"
        },
        "id": "jImX7q-OuPtS",
        "outputId": "3cfc0178-0c48-461b-ca9a-03308d1cc9a9"
      },
      "source": [
        "pip install PyPDF2\r\n"
      ],
      "execution_count": null,
      "outputs": [
        {
          "output_type": "stream",
          "text": [
            "Collecting PyPDF2\n",
            "\u001b[?25l  Downloading https://files.pythonhosted.org/packages/b4/01/68fcc0d43daf4c6bdbc6b33cc3f77bda531c86b174cac56ef0ffdb96faab/PyPDF2-1.26.0.tar.gz (77kB)\n",
            "\r\u001b[K     |████▎                           | 10kB 13.7MB/s eta 0:00:01\r\u001b[K     |████████▌                       | 20kB 19.5MB/s eta 0:00:01\r\u001b[K     |████████████▊                   | 30kB 13.5MB/s eta 0:00:01\r\u001b[K     |█████████████████               | 40kB 10.9MB/s eta 0:00:01\r\u001b[K     |█████████████████████▏          | 51kB 8.1MB/s eta 0:00:01\r\u001b[K     |█████████████████████████▍      | 61kB 8.3MB/s eta 0:00:01\r\u001b[K     |█████████████████████████████▋  | 71kB 8.5MB/s eta 0:00:01\r\u001b[K     |████████████████████████████████| 81kB 5.0MB/s \n",
            "\u001b[?25hBuilding wheels for collected packages: PyPDF2\n",
            "  Building wheel for PyPDF2 (setup.py) ... \u001b[?25l\u001b[?25hdone\n",
            "  Created wheel for PyPDF2: filename=PyPDF2-1.26.0-cp37-none-any.whl size=61085 sha256=b69ffe91c2044263ed6e92d1e7968854a2ad81ad731ce8e993b4335a5b793194\n",
            "  Stored in directory: /root/.cache/pip/wheels/53/84/19/35bc977c8bf5f0c23a8a011aa958acd4da4bbd7a229315c1b7\n",
            "Successfully built PyPDF2\n",
            "Installing collected packages: PyPDF2\n",
            "Successfully installed PyPDF2-1.26.0\n"
          ],
          "name": "stdout"
        }
      ]
    },
    {
      "cell_type": "code",
      "metadata": {
        "id": "VNOstzndt9Qj"
      },
      "source": [
        "with open(\"/content/Zamareshet songs.txt\") as f:\r\n",
        "    text2 = f.read()\r\n",
        "\r\n",
        "# Build the model.\r\n",
        "text_model2 = markovify.Text(text2)"
      ],
      "execution_count": null,
      "outputs": []
    },
    {
      "cell_type": "code",
      "metadata": {
        "colab": {
          "base_uri": "https://localhost:8080/"
        },
        "id": "ASkA3EiuuTaq",
        "outputId": "8666c63e-afbb-4f57-e77c-776d525c8136"
      },
      "source": [
        "print()\r\n",
        "for i in range(40):\r\n",
        "  print(text_model2.make_sentence())\r\n",
        "  print()"
      ],
      "execution_count": null,
      "outputs": [
        {
          "output_type": "stream",
          "text": [
            "\n",
            "******************* הַכַּרְמֶל הוּא הַר, הַיַּרְדֵּן נָהָר, הַכִּנֶּרֶת יָם, יְרוּשָׁלַיִם עִיר וְהַגָּלִיל הוּא שִׁיר עַל עֵץ, עֵץ בּוֹדֵד, עֵץ שִׁקְמָה אוֹ תֹּמֶר זֶה לָזֶה כָּל בְּנֵי עֲרָב.\n",
            "\n",
            "אֶל מִי נַפְשִׁי בּוֹחֶרֶת?\n",
            "\n",
            "סָבִיב זֶה הָעֵמֶק עֲטֶרֶת, עֲטֶרֶת הָרִים נִשָּׂאִים עוֹמְדִים הֵמָּה לְמִשְׁמֶרֶת עַל זֶה הָעֵמֶק עֲטֶרֶת, עֲטֶרֶת הָרִים נִשָּׂאִים עוֹמְדִים הֵמָּה לְמִשְׁמֶרֶת עַל זֶה הָעֵמֶק וְנַחַל קְדוּמִים.\n",
            "\n",
            "מִבֹּקֶר אוֹר עַד רֶדֶת יוֹם.\n",
            "\n",
            "הִגְבִּיר אוֹיֵב אֶת הַשֹּׁד, לֹא, – אֵין בָּא, אִישׁ וּנְבוֹ לוֹ עַל אֶרֶץ רַבָּה.\n",
            "\n",
            "וְהַסּוֹף הִנּוֹ בָּרוּר – אוּקָרַמְבָּה שׁוֹאֶבֶת מַיִם אֶל הַדְּלִי – אוּקָרַמְבָּה הָאַרְמוֹנָה מְמַהֵר – אוּקָרַמְבָּה בְּלֵיל קַיִץ הוּא דּוֹהֵר – אוּקָרַמְבָּה אוּקָרַאַאַאַמְבָּה אוּקָרַאַאַאַמְבָּה רִיוֹ דֶּה זַ'נֵּרוֹ מוֹנְטֶוִידֶאוֹ. עַל אֵם הַדֶּרֶךְ בַּבְּאֵר – אוּקָרַמְבָּה בְּלֵיל קַיִץ הוּא דּוֹהֵר – אוּקָרַמְבָּה אוּקָרַמְבָּה...\n",
            "\n",
            "None\n",
            "\n",
            "******************* לַשֶּׁמֶשׁ, אַחִים, וְלַחֹפֶשׁ, קָדִימָה, אַחִים, לָאוֹר, שַׁחַר עָתִיד יַעֲלֶה, יִזְרַח מִן הֶעָבָר וְכָל אֶחָד אַךְ אֶת נַפְשׁוֹ מֵנִיס אֶל חוֹף הַזָּהָב.\n",
            "\n",
            "None\n",
            "\n",
            "צַהֲלִי, צַהֲלִי וָרֹנִּי, יוֹשֶׁבֶת צִיּוֹן, יוֹשֶׁבֶת צִיּוֹן, יוֹשֶׁבֶת צִיּוֹן, יוֹשֶׁבֶת צִיּוֹן, יוֹשֶׁבֶת צִיּוֹן, הַלְלוּיָהּ. ******************* כִּי לֹא נֶחֱרַץ גּוֹרַל יִשְׂרָאֵל לֹא יֹאבַד יִשְׂרָאֵל ******************* שָׂמֵחַ, שָׂמֵחַ, שָׂמֵחַ...\n",
            "\n",
            "עַל תֹּרֶן אֳנִיָּה רַק הִיא בִּלְבַד שִׁירַת מַלָּח תִּשְׁמַע.\n",
            "\n",
            "שַׂחֲקִי כִּי גַּם בְּרֵעוּת אַאֲמִין, אַאֲמִין כִּי עוֹד הַלֵּב יַחְפֹּץ תַּחַת שָׁמַיִם?\n",
            "\n",
            "בֻּבָּתִי צְרִיכָה לִישֹׁן, כָּךְ אָמַר לִי לְסַפֵּר אָסוּר!\n",
            "\n",
            "None\n",
            "\n",
            "None\n",
            "\n",
            "הֵי, שִׁירִי לִי לַיְלָה!\n",
            "\n",
            "צְמַח וּגְדַל, קוֹרְפּוֹרָל, אֲבָל זְכֹר אֶת אַבָּא, זְכֹר אוֹתוֹ ,יַלְדּוֹן.\n",
            "\n",
            "מִי זֶה הֵקִים כָּל אֵלֶּה, וְעַל כָּל שְׁבִיל, בַּאֲשֶׁר כַּף רֶגֶל שָׁם – דִּין דָּן, דִּין דָּן, דִּין דָּן וּבְרֹאשָׁם חֲמוֹר קָטָן.\n",
            "\n",
            "אַשְׁרֵי שֶׁבְּנִי הוּא וְאִמּוֹ אָנֹכִי!\n",
            "\n",
            "******************* טִיף טִיף טוֹף...\n",
            "\n",
            "None\n",
            "\n",
            "לָגַמְתִּי כּוֹסִית וְשֵׁנִית וּמְחַיֵּךְ הָאַשְׁכְּנַזּוֹן בְּמִין סוֹד; שִׁלַּמְתִּי יֵינִי בִּקְרוֹנִי וְסוּסַי, הֵבֵאתִי הַבַּיְתָה רַק הִגַּעְתִּי וְאֶת אִשְׁתִּי הוֹי שָׁם מָצָאתִי וּשְׁמוֹ עֵין-חֲרוֹד.\n",
            "\n",
            "הֵן עַל מִי, אִם לֹא נִרְקֹד מַהֵר הַתַּחַת יִתְקָרֵר נִסְתּוֹבֵבָה...\n",
            "\n",
            "אֲחַשְׁוֵרוֹשׁ מוּבָן נַעֲשָׂה שָׁחֹר לָבָן, חֲמָתוֹ עוֹד לֹא הָיָה לוֹ לְאָן לָלֶכֶת.\n",
            "\n",
            "None\n",
            "\n",
            "עֶרֶב, עֶרֶב, עֶרֶב עֶרֶב, עֶרֶב, עֶרֶב, עֶרֶב עֶרֶב, עֶרֶב, עֶרֶב עֶרֶב, עֶרֶב, עֶרֶב, עֶרֶב, עֶרֶב, עֶרֶב, עֶרֶב, עֶרֶב, עֶרֶב, עֶרֶב עֶרֶב, עֶרֶב, עֶרֶב בָּא!\n",
            "\n",
            "******************* נְאַגֵּד אֲגָדִים בַּבָּר נְאַלֵּם אֲלֻמּוֹת בַּגַּיְא וְגַם בָּהָר.\n",
            "\n",
            "הִנְנִי הוֹלֶכֶת, בֵּן יַקִּיר לִי שָׁם בְּאֶרֶץ יִשְׂרָאֵל?\n",
            "\n",
            "מִמִּי, מִמִּי אַתָּה כְּבָר שָׁכַחְתָּ הַכֹּל וַדַּאי שָׁכַח...\n",
            "\n",
            "******************* לִי בַּדִּיר טָלֶה קָטָן הַמְלִיטִי לִי!\n",
            "\n",
            "מֵאָה דּוֹרוֹת חָלַמְתִּי עָלַיִךְ לִזְכּוֹת, לִרְאוֹת בְּאוֹר פָּנַיִךְ. יְרוּשָׁלַיִם, יְרוּשָׁלַיִם, הָאִירִי פָּנַיִךְ אֵלַי, הָאִירִי פָּנַיִךְ לִבְנֵךְ! יְרוּשָׁלַיִם, יְרוּשָׁלַיִם אֲנִי לֹא אָזוּז מִפֹּה!\n",
            "\n",
            "חַג פּוּרִים בָּא, חַג פּוּרִים הוּא חַג טוֹב, סְבִיבוֹן – סֹב סֹב נָא סֹב, סֹב נָא סֹב, סֹב נָא סֹב, סֹב נָא סֹב, סֹב נָא סֹב, סֹב נָא סֹב מַה נָעִים מַה טוֹב.\n",
            "\n",
            "שָׁאַר רַק צְלִיל אַחַר הַהֲמֻלָּה.\n",
            "\n",
            "******************* יֵשׁ לִי פַּת, אֵין לִי אַחֶרֶת, אַתְּ אֶרֶץ שֶׁלִּי.\n",
            "\n",
            "רָאֹה מִנֶּגֶד שָׁמָּה – זָקַנְתִּי...\n",
            "\n",
            "אַךְ הוּא שׁוּב מַפְלִיג לַמַּעֲרָב.\n",
            "\n",
            "סָבִיב מָה רַב הַחֹם!\n",
            "\n",
            "טַ לַ לַ לַ...\n",
            "\n",
            "חַג פּוּרִים, חַג פּוּרִים, זֶה אֶל זֶה פִּרְחֵי שָׂדֶה וְאֶל טָלֶה גְּדִי יִפְעֶה: שַׁבָּת שָׁלוֹם, שַׁבָּת שָׁלוֹם, שַׁבָּת שָׁלוֹם וּמְבֹרָךְ! שַׁבָּת שָׁלוֹם וּבְרָכָה!\n",
            "\n",
            "יֵשׁ אֶחָד הַחוֹלֵם עַל קְרָבוֹת וּדְלֵקָה, יֵשׁ שֵׁנִי הַחוֹלֵם עַל קְרָבוֹת וּדְלֵקָה, יֵשׁ שֵׁנִי הַחוֹלֵם עַל קְרָבוֹת וּדְלֵקָה, יֵשׁ שֵׁנִי הַחוֹלֵם עַל רַזָּלֶס.\n",
            "\n"
          ],
          "name": "stdout"
        }
      ]
    }
  ]
}